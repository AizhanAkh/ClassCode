{
 "cells": [
  {
   "cell_type": "code",
   "execution_count": 1,
   "metadata": {},
   "outputs": [],
   "source": [
    "# import Class\n",
    "from classy import Class\n",
    "import numpy as np\n",
    "# to get plots displayed in notebook\n",
    "%matplotlib notebook\n",
    "import matplotlib.pyplot as plt\n",
    "from math import pi"
   ]
  },
  {
   "cell_type": "code",
   "execution_count": null,
   "metadata": {},
   "outputs": [],
   "source": [
    "# compute LCDM model with linear perturbations only\n",
    "modell = Class()\n",
    "modell.struct_cleanup()\n",
    "modell.set({'omega_cdm':0.1205, \"omega_b\":0.02218, \"h\":0.67, \"tau_reio\":0.07})\n",
    "modell.set({\"tau_reio\":0.07,\"ln10^{10}A_s\":3.056,\"n_s\":0.9619})\n",
    "modell.set({\"tight_coupling_trigger_tau_c_over_tau_h\":0.0, \"tight_coupling_trigger_tau_c_over_tau_k\":0.0})\n",
    "modell.set({\"output\":\"tCl, lCl, pCl, mPk\", \"root\":\"halofit_lcdm\",\"recombination\":\"recfast\", \"gauge\":\"synchronous\"})\n",
    "modell.set({\"root\": \"test_output/lcdm_\",\"write thermodynamics\":\"yes\", \"write background\":\"yes\", \"lensing\":\"yes\"})\n",
    "modell.set({\"k_per_decade_for_pk\":100, \"P_k_max_h/Mpc\":5})\n",
    "modell.compute()"
   ]
  },
  {
   "cell_type": "code",
   "execution_count": null,
   "metadata": {},
   "outputs": [],
   "source": []
  }
 ],
 "metadata": {
  "kernelspec": {
   "display_name": "Python 3",
   "language": "python",
   "name": "python3"
  },
  "language_info": {
   "codemirror_mode": {
    "name": "ipython",
    "version": 3
   },
   "file_extension": ".py",
   "mimetype": "text/x-python",
   "name": "python",
   "nbconvert_exporter": "python",
   "pygments_lexer": "ipython3",
   "version": "3.6.4"
  }
 },
 "nbformat": 4,
 "nbformat_minor": 2
}
